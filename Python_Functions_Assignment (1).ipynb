{
  "cells": [
    {
      "cell_type": "markdown",
      "source": [
        "## **Python Functions Questions**"
      ],
      "metadata": {
        "id": "1mAH19IySMzl"
      },
      "id": "1mAH19IySMzl"
    },
    {
      "cell_type": "code",
      "source": [],
      "metadata": {
        "id": "lQuHSNtCTCPX"
      },
      "id": "lQuHSNtCTCPX",
      "execution_count": null,
      "outputs": []
    },
    {
      "cell_type": "markdown",
      "id": "bd24098f",
      "metadata": {
        "id": "bd24098f"
      },
      "source": [
        "**1. What is the difference between a function and a method in Python?**"
      ]
    },
    {
      "cell_type": "markdown",
      "id": "f61422c4",
      "metadata": {
        "id": "f61422c4"
      },
      "source": [
        "- A function is a block of reusable code that performs a specific task and can be called independently.\n",
        "\n",
        "- A method is similar to a function but is associated with an object and can access or modify its data.\n"
      ]
    },
    {
      "cell_type": "markdown",
      "id": "e0b2bd53",
      "metadata": {
        "id": "e0b2bd53"
      },
      "source": [
        "**2. Explain the concept of function arguments and parameters in Python.**"
      ]
    },
    {
      "cell_type": "markdown",
      "id": "e2778d3d",
      "metadata": {
        "id": "e2778d3d"
      },
      "source": [
        "- Parameters are variables defined in the function signature to accept input values.\n",
        "- Arguments are the actual values passed when calling the function.\n"
      ]
    },
    {
      "cell_type": "markdown",
      "id": "563ca60f",
      "metadata": {
        "id": "563ca60f"
      },
      "source": [
        "**3. What are the different ways to define and call a function in Python?**"
      ]
    },
    {
      "cell_type": "markdown",
      "id": "304c7b8e",
      "metadata": {
        "id": "304c7b8e"
      },
      "source": [
        "- Ways to define:\n",
        " 1. Regular `def` statement.\n",
        " 2. Lambda functions.\n",
        "\n",
        "- Ways to call:\n",
        "   1. Direct call with parentheses.\n",
        "   2. Indirect call via `eval` or `getattr`.\n"
      ]
    },
    {
      "cell_type": "markdown",
      "id": "bf5943dd",
      "metadata": {
        "id": "bf5943dd"
      },
      "source": [
        "**4. What is the purpose of the ‘return’ statement in a Python function?**"
      ]
    },
    {
      "cell_type": "markdown",
      "id": "64ec54a0",
      "metadata": {
        "id": "64ec54a0"
      },
      "source": [
        "- It specifies the value a function sends back to the caller.\n"
      ]
    },
    {
      "cell_type": "markdown",
      "id": "9d70525c",
      "metadata": {
        "id": "9d70525c"
      },
      "source": [
        "**5. What are iterators in Python and how do they differ from iterables?**"
      ]
    },
    {
      "cell_type": "markdown",
      "id": "57672943",
      "metadata": {
        "id": "57672943"
      },
      "source": [
        "- An iterable is any object capable of returning its members one at a time, e.g., lists, strings.\n",
        "An iterator is an object representing a stream of data; it returns the next value using `__next__()`.\n"
      ]
    },
    {
      "cell_type": "markdown",
      "id": "749648b8",
      "metadata": {
        "id": "749648b8"
      },
      "source": [
        "**6. Explain the concept of generators in Python and how they are defined.**"
      ]
    },
    {
      "cell_type": "markdown",
      "id": "109a4c73",
      "metadata": {
        "id": "109a4c73"
      },
      "source": [
        "- Generators are special functions that yield values one at a time using `yield`, maintaining state between calls.\n"
      ]
    },
    {
      "cell_type": "markdown",
      "id": "a0f77b99",
      "metadata": {
        "id": "a0f77b99"
      },
      "source": [
        "**7. What are the advantages of using generators over regular functions?**"
      ]
    },
    {
      "cell_type": "markdown",
      "id": "8689da3a",
      "metadata": {
        "id": "8689da3a"
      },
      "source": [
        "- Save memory (lazy evaluation).\n",
        "- Can produce infinite sequences.\n",
        "- Maintain state between yields.\n"
      ]
    },
    {
      "cell_type": "markdown",
      "id": "2bb15f3f",
      "metadata": {
        "id": "2bb15f3f"
      },
      "source": [
        "**8. What is a lambda function in Python and when is it typically used?**"
      ]
    },
    {
      "cell_type": "markdown",
      "id": "b23306b5",
      "metadata": {
        "id": "b23306b5"
      },
      "source": [
        "- A lambda function is an anonymous single-expression function.\n",
        "Used when a short function is needed temporarily.\n"
      ]
    },
    {
      "cell_type": "markdown",
      "id": "c5ec28fb",
      "metadata": {
        "id": "c5ec28fb"
      },
      "source": [
        "**9. Explain the purpose and usage of the 'map()' function in Python.**"
      ]
    },
    {
      "cell_type": "markdown",
      "id": "1ce89492",
      "metadata": {
        "id": "1ce89492"
      },
      "source": [
        "- `map()` applies a function to all items in an iterable.\n"
      ]
    },
    {
      "cell_type": "markdown",
      "id": "bf788a8f",
      "metadata": {
        "id": "bf788a8f"
      },
      "source": [
        "**10. What is the difference between ‘map()’, ‘reduce()’, and ‘filter()’ functions in Python?**"
      ]
    },
    {
      "cell_type": "markdown",
      "id": "d2aa870a",
      "metadata": {
        "id": "d2aa870a"
      },
      "source": [
        "- `map()` applies a function to each element.\n",
        "- `filter()` returns elements where the function returns True.\n",
        "- `reduce()` applies a rolling computation.\n"
      ]
    },
    {
      "cell_type": "markdown",
      "source": [
        "## **Practical Queston**"
      ],
      "metadata": {
        "id": "2ML7czdTUvcb"
      },
      "id": "2ML7czdTUvcb"
    },
    {
      "cell_type": "markdown",
      "id": "d3550aff",
      "metadata": {
        "id": "d3550aff"
      },
      "source": [
        "**1. Write a Python function that takes a list of numbers as input and returns the sum of all even numbers in the list.**"
      ]
    },
    {
      "cell_type": "code",
      "execution_count": 1,
      "id": "58aa7584",
      "metadata": {
        "colab": {
          "base_uri": "https://localhost:8080/"
        },
        "id": "58aa7584",
        "outputId": "1b399d8a-3f7a-4099-c5e6-985d412af544"
      },
      "outputs": [
        {
          "output_type": "stream",
          "name": "stdout",
          "text": [
            "12\n"
          ]
        }
      ],
      "source": [
        "def sum_even(numbers):\n",
        "    return sum(n for n in numbers if n % 2 == 0)\n",
        "\n",
        "print(sum_even([1, 2, 3, 4, 5, 6]))"
      ]
    },
    {
      "cell_type": "markdown",
      "id": "53b9d4f2",
      "metadata": {
        "id": "53b9d4f2"
      },
      "source": [
        "**2. Create a Python function that accepts a string and returns the reverse of that string.**"
      ]
    },
    {
      "cell_type": "code",
      "execution_count": 2,
      "id": "675bb9b8",
      "metadata": {
        "colab": {
          "base_uri": "https://localhost:8080/"
        },
        "id": "675bb9b8",
        "outputId": "f40d6633-422f-4f1e-8879-d4e00ddda8ea"
      },
      "outputs": [
        {
          "output_type": "stream",
          "name": "stdout",
          "text": [
            "olleh\n"
          ]
        }
      ],
      "source": [
        "def reverse_string(s):\n",
        "    return s[::-1]\n",
        "\n",
        "print(reverse_string('hello'))"
      ]
    },
    {
      "cell_type": "markdown",
      "id": "e3a307be",
      "metadata": {
        "id": "e3a307be"
      },
      "source": [
        "**3. Implement a Python function that takes a list of integers and returns a new list containing the squares of each number.**"
      ]
    },
    {
      "cell_type": "code",
      "execution_count": 3,
      "id": "c193e88e",
      "metadata": {
        "colab": {
          "base_uri": "https://localhost:8080/"
        },
        "id": "c193e88e",
        "outputId": "caa04db3-1ec5-494c-b7ee-9d71fc80252d"
      },
      "outputs": [
        {
          "output_type": "stream",
          "name": "stdout",
          "text": [
            "[1, 4, 9, 16]\n"
          ]
        }
      ],
      "source": [
        "def squares_list(nums):\n",
        "    return [n**2 for n in nums]\n",
        "\n",
        "print(squares_list([1, 2, 3, 4]))"
      ]
    },
    {
      "cell_type": "markdown",
      "id": "e77d7b1d",
      "metadata": {
        "id": "e77d7b1d"
      },
      "source": [
        "**4. Write a Python function that checks if a given number is prime or not from 1 to 200.**"
      ]
    },
    {
      "cell_type": "code",
      "execution_count": 4,
      "id": "5113d7a0",
      "metadata": {
        "colab": {
          "base_uri": "https://localhost:8080/"
        },
        "id": "5113d7a0",
        "outputId": "fe672f55-9731-40d8-f1a3-eaa05db80252"
      },
      "outputs": [
        {
          "output_type": "stream",
          "name": "stdout",
          "text": [
            "[2, 3, 5, 7, 11, 13, 17, 19, 23, 29, 31, 37, 41, 43, 47, 53, 59, 61, 67, 71, 73, 79, 83, 89, 97, 101, 103, 107, 109, 113, 127, 131, 137, 139, 149, 151, 157, 163, 167, 173, 179, 181, 191, 193, 197, 199]\n"
          ]
        }
      ],
      "source": [
        "def is_prime(n):\n",
        "    if n < 2:\n",
        "        return False\n",
        "    for i in range(2, int(n**0.5) + 1):\n",
        "        if n % i == 0:\n",
        "            return False\n",
        "    return True\n",
        "\n",
        "primes = [n for n in range(1, 201) if is_prime(n)]\n",
        "print(primes)"
      ]
    },
    {
      "cell_type": "markdown",
      "id": "57d6b126",
      "metadata": {
        "id": "57d6b126"
      },
      "source": [
        "**5. Create an iterator class in Python that generates the Fibonacci sequence up to a specified number of terms.**"
      ]
    },
    {
      "cell_type": "code",
      "execution_count": 5,
      "id": "b9545a9f",
      "metadata": {
        "colab": {
          "base_uri": "https://localhost:8080/"
        },
        "id": "b9545a9f",
        "outputId": "f3c6ac20-d2f7-4ea6-e310-46804b18d235"
      },
      "outputs": [
        {
          "output_type": "stream",
          "name": "stdout",
          "text": [
            "0\n",
            "1\n",
            "1\n",
            "2\n",
            "3\n",
            "5\n",
            "8\n",
            "13\n",
            "21\n",
            "34\n"
          ]
        }
      ],
      "source": [
        "class Fibonacci:\n",
        "    def __init__(self, terms):\n",
        "        self.terms = terms\n",
        "        self.a, self.b = 0, 1\n",
        "        self.count = 0\n",
        "    def __iter__(self):\n",
        "        return self\n",
        "    def __next__(self):\n",
        "        if self.count >= self.terms:\n",
        "            raise StopIteration\n",
        "        val = self.a\n",
        "        self.a, self.b = self.b, self.a + self.b\n",
        "        self.count += 1\n",
        "        return val\n",
        "\n",
        "for num in Fibonacci(10):\n",
        "    print(num)"
      ]
    },
    {
      "cell_type": "markdown",
      "id": "9353a6bf",
      "metadata": {
        "id": "9353a6bf"
      },
      "source": [
        "**6. Write a generator function in Python that yields the powers of 2 up to a given exponent.**"
      ]
    },
    {
      "cell_type": "code",
      "execution_count": 7,
      "id": "a52fadd2",
      "metadata": {
        "colab": {
          "base_uri": "https://localhost:8080/"
        },
        "id": "a52fadd2",
        "outputId": "136ae057-d22e-4661-c30f-6ff831317c85"
      },
      "outputs": [
        {
          "output_type": "stream",
          "name": "stdout",
          "text": [
            "[1, 2, 4, 8, 16, 32]\n"
          ]
        }
      ],
      "source": [
        "def powers_of_two(exp):\n",
        "    for i in range(exp+1):\n",
        "        yield 2 ** i\n",
        "\n",
        "print(list(powers_of_two(5)))"
      ]
    },
    {
      "cell_type": "markdown",
      "id": "a1e032c0",
      "metadata": {
        "id": "a1e032c0"
      },
      "source": [
        "**7. Implement a generator function that reads a file line by line and yields each line as a string.**"
      ]
    },
    {
      "cell_type": "code",
      "execution_count": 9,
      "id": "d2cf487d",
      "metadata": {
        "id": "d2cf487d"
      },
      "outputs": [],
      "source": [
        "def read_lines(filename):\n",
        "    with open(filename) as f:\n",
        "        for line in f:\n",
        "            yield line.strip()\n",
        "\n",
        "# Example usage:\n",
        "# for l in read_lines('test.txt'):\n",
        "#     print(l)"
      ]
    },
    {
      "cell_type": "markdown",
      "id": "de51b09b",
      "metadata": {
        "id": "de51b09b"
      },
      "source": [
        "**8. Use a lambda function in Python to sort a list of tuples based on the second element of each tuple.**"
      ]
    },
    {
      "cell_type": "code",
      "execution_count": 10,
      "id": "9c773488",
      "metadata": {
        "colab": {
          "base_uri": "https://localhost:8080/"
        },
        "id": "9c773488",
        "outputId": "aacf5969-3e76-4076-f142-8da4a0a2771c"
      },
      "outputs": [
        {
          "output_type": "stream",
          "name": "stdout",
          "text": [
            "[(2, 1), (4, 2), (1, 3)]\n"
          ]
        }
      ],
      "source": [
        "data = [(1, 3), (2, 1), (4, 2)]\n",
        "data.sort(key=lambda x: x[1])\n",
        "print(data)"
      ]
    },
    {
      "cell_type": "markdown",
      "id": "2c073605",
      "metadata": {
        "id": "2c073605"
      },
      "source": [
        "**9. Write a Python program that uses ‘map()’ to convert a list of temperatures from Celsius to Fahrenheit.**"
      ]
    },
    {
      "cell_type": "code",
      "execution_count": 11,
      "id": "cce0f87c",
      "metadata": {
        "colab": {
          "base_uri": "https://localhost:8080/"
        },
        "id": "cce0f87c",
        "outputId": "0400c6f1-8ce0-481a-ba6c-cc1a80e45b2f"
      },
      "outputs": [
        {
          "output_type": "stream",
          "name": "stdout",
          "text": [
            "[32.0, 68.0, 86.0, 104.0]\n"
          ]
        }
      ],
      "source": [
        "temps_c = [0, 20, 30, 40]\n",
        "temps_f = list(map(lambda c: (c * 9/5) + 32, temps_c))\n",
        "print(temps_f)"
      ]
    },
    {
      "cell_type": "markdown",
      "id": "762d9aeb",
      "metadata": {
        "id": "762d9aeb"
      },
      "source": [
        "**10. Create a Python program that uses ‘filter()’ to remove all the vowels from a given string.**"
      ]
    },
    {
      "cell_type": "code",
      "execution_count": 12,
      "id": "8d110b3f",
      "metadata": {
        "colab": {
          "base_uri": "https://localhost:8080/"
        },
        "id": "8d110b3f",
        "outputId": "75101401-077f-4db8-e40d-633aeed79694"
      },
      "outputs": [
        {
          "output_type": "stream",
          "name": "stdout",
          "text": [
            "Hll Wrld\n"
          ]
        }
      ],
      "source": [
        "s = 'Hello World'\n",
        "vowels = 'aeiouAEIOU'\n",
        "filtered = ''.join(filter(lambda ch: ch not in vowels, s))\n",
        "print(filtered)"
      ]
    },
    {
      "cell_type": "markdown",
      "id": "0fc21768",
      "metadata": {
        "id": "0fc21768"
      },
      "source": [
        "11) Imagine an accounting routine used in a book shop. It works on a list with sublists, which look like this:\n",
        "\n",
        "\n",
        "\n",
        "\n",
        "\n",
        "\n",
        "\n",
        "Write a Python program, which returns a list with 2-tuples. Each tuple consists of the order number and the\n",
        "product of the price per item and the quantity. The product should be increased by 10,- € if the value of the\n",
        "order is smaller than 100,00 €.\n",
        "\n",
        "Write a Python program using lambda and map."
      ]
    },
    {
      "cell_type": "code",
      "execution_count": 14,
      "id": "9ca0584d",
      "metadata": {
        "colab": {
          "base_uri": "https://localhost:8080/"
        },
        "id": "9ca0584d",
        "outputId": "6c640914-5621-466e-80d8-c6b52df5da91"
      },
      "outputs": [
        {
          "output_type": "stream",
          "name": "stdout",
          "text": [
            "[(34587, 163.8), (98762, 284.0), (77226, 108.85000000000001), (88112, 84.97)]\n"
          ]
        }
      ],
      "source": [
        "orders = [\n",
        "    [34587, 'Learning Python, Mark Lutz', 4, 40.95],\n",
        "    [98762, 'Programming Python, Mark Lutz', 5, 56.80],\n",
        "    [77226, 'Head First Python, Paul Barry', 3, 32.95],\n",
        "    [88112, 'Einfuhrung in Python3, Bernd Klein', 3, 24.99]\n",
        "]\n",
        "\n",
        "result = list(map(lambda x: (x[0], x[2]*x[3] if x[2]*x[3] >= 100 else x[2]*x[3] + 10), orders))\n",
        "print(result)"
      ]
    }
  ],
  "metadata": {
    "colab": {
      "provenance": []
    },
    "language_info": {
      "name": "python"
    },
    "kernelspec": {
      "name": "python3",
      "display_name": "Python 3"
    }
  },
  "nbformat": 4,
  "nbformat_minor": 5
}